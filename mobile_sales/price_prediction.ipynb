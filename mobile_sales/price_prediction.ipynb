{
 "cells": [
  {
   "cell_type": "markdown",
   "metadata": {},
   "source": [
    "# ML TECHNIQUES"
   ]
  },
  {
   "cell_type": "code",
   "execution_count": 1,
   "metadata": {},
   "outputs": [],
   "source": [
    "import pandas as pd\n",
    "import numpy as np\n",
    "import matplotlib.pyplot as plt\n",
    "import seaborn as sns\n",
    "from sklearn.model_selection import train_test_split\n",
    "from sklearn.linear_model import LinearRegression\n",
    "from sklearn.preprocessing import PolynomialFeatures\n",
    "from sklearn.neighbors import KNeighborsRegressor\n",
    "from sklearn.ensemble import RandomForestRegressor, AdaBoostRegressor\n",
    "from sklearn.tree import DecisionTreeRegressor\n",
    "from sklearn.metrics import mean_squared_error, r2_score\n",
    "from sklearn.preprocessing import OrdinalEncoder"
   ]
  },
  {
   "cell_type": "code",
   "execution_count": 2,
   "metadata": {},
   "outputs": [],
   "source": [
    "def toMB(value):\n",
    "    try :\n",
    "        if 'MB' in value:\n",
    "            return int(float(value.replace('MB', '').strip()))\n",
    "        elif 'GB' in value:\n",
    "            return int(float(value.replace('GB', '').strip()) * 1024)\n",
    "        elif 'TB' in value:\n",
    "            return int(float(value.replace('TB', '').strip()) * 1024 * 1024)\n",
    "    except:\n",
    "        print(value)\n",
    "        return value\n",
    "    \n",
    "def conversiontoMB(data):\n",
    "    data_converted = data.copy()\n",
    "    data_converted['Memory'] = data['Memory'].dropna().apply(toMB)\n",
    "    data_converted[[\"Storage\"]] = data_converted[[\"Storage\"]].replace(\"Expandable Upto 32 GB\", \"32 GB\")\n",
    "    data_converted[[\"Storage\"]] = data_converted[[\"Storage\"]].replace(\"Expandable Upto 16 GB\", \"16 GB\")\n",
    "    data_converted['Storage'] = data_converted['Storage'].dropna().apply(toMB)\n",
    "    return data_converted\n"
   ]
  },
  {
   "cell_type": "code",
   "execution_count": 3,
   "metadata": {},
   "outputs": [],
   "source": [
    "data= pd.read_csv('Sales.csv')"
   ]
  },
  {
   "cell_type": "code",
   "execution_count": 4,
   "metadata": {},
   "outputs": [
    {
     "name": "stdout",
     "output_type": "stream",
     "text": [
      "<class 'pandas.core.frame.DataFrame'>\n",
      "RangeIndex: 3114 entries, 0 to 3113\n",
      "Data columns (total 12 columns):\n",
      " #   Column               Non-Null Count  Dtype  \n",
      "---  ------               --------------  -----  \n",
      " 0   Brands               3114 non-null   object \n",
      " 1   Models               3114 non-null   object \n",
      " 2   Colors               3114 non-null   object \n",
      " 3   Memory               3071 non-null   float64\n",
      " 4   Storage              3075 non-null   float64\n",
      " 5   Camera               3114 non-null   object \n",
      " 6   Rating               2970 non-null   float64\n",
      " 7   Selling Price        3114 non-null   int64  \n",
      " 8   Original Price       3114 non-null   int64  \n",
      " 9   Mobile               3114 non-null   object \n",
      " 10  Discount             3114 non-null   int64  \n",
      " 11  discount percentage  3114 non-null   float64\n",
      "dtypes: float64(4), int64(3), object(5)\n",
      "memory usage: 292.1+ KB\n"
     ]
    }
   ],
   "source": [
    "data_converted = conversiontoMB(data)\n",
    "data_converted.info()"
   ]
  },
  {
   "cell_type": "code",
   "execution_count": 5,
   "metadata": {},
   "outputs": [
    {
     "data": {
      "text/html": [
       "<div>\n",
       "<style scoped>\n",
       "    .dataframe tbody tr th:only-of-type {\n",
       "        vertical-align: middle;\n",
       "    }\n",
       "\n",
       "    .dataframe tbody tr th {\n",
       "        vertical-align: top;\n",
       "    }\n",
       "\n",
       "    .dataframe thead th {\n",
       "        text-align: right;\n",
       "    }\n",
       "</style>\n",
       "<table border=\"1\" class=\"dataframe\">\n",
       "  <thead>\n",
       "    <tr style=\"text-align: right;\">\n",
       "      <th></th>\n",
       "      <th>Brands</th>\n",
       "      <th>Models</th>\n",
       "      <th>Colors</th>\n",
       "      <th>Memory</th>\n",
       "      <th>Storage</th>\n",
       "      <th>Camera</th>\n",
       "      <th>Rating</th>\n",
       "      <th>Selling Price</th>\n",
       "      <th>Original Price</th>\n",
       "      <th>Mobile</th>\n",
       "      <th>Discount</th>\n",
       "      <th>discount percentage</th>\n",
       "    </tr>\n",
       "  </thead>\n",
       "  <tbody>\n",
       "    <tr>\n",
       "      <th>0</th>\n",
       "      <td>SAMSUNG</td>\n",
       "      <td>GALAXY M31S</td>\n",
       "      <td>Mirage Black</td>\n",
       "      <td>8192.0</td>\n",
       "      <td>131072.0</td>\n",
       "      <td>Yes</td>\n",
       "      <td>4.3</td>\n",
       "      <td>19330</td>\n",
       "      <td>20999</td>\n",
       "      <td>SAMSUNG GALAXY M31S</td>\n",
       "      <td>1669</td>\n",
       "      <td>7.947998</td>\n",
       "    </tr>\n",
       "    <tr>\n",
       "      <th>1</th>\n",
       "      <td>Nokia</td>\n",
       "      <td>3.2</td>\n",
       "      <td>Steel</td>\n",
       "      <td>2048.0</td>\n",
       "      <td>16384.0</td>\n",
       "      <td>Yes</td>\n",
       "      <td>3.8</td>\n",
       "      <td>10199</td>\n",
       "      <td>10199</td>\n",
       "      <td>Nokia 3.2</td>\n",
       "      <td>0</td>\n",
       "      <td>0.000000</td>\n",
       "    </tr>\n",
       "    <tr>\n",
       "      <th>3</th>\n",
       "      <td>Infinix</td>\n",
       "      <td>Note 5</td>\n",
       "      <td>Ice Blue</td>\n",
       "      <td>4096.0</td>\n",
       "      <td>65536.0</td>\n",
       "      <td>Yes</td>\n",
       "      <td>4.2</td>\n",
       "      <td>12999</td>\n",
       "      <td>12999</td>\n",
       "      <td>Infinix Note 5</td>\n",
       "      <td>0</td>\n",
       "      <td>0.000000</td>\n",
       "    </tr>\n",
       "    <tr>\n",
       "      <th>4</th>\n",
       "      <td>Apple</td>\n",
       "      <td>iPhone 11</td>\n",
       "      <td>Black</td>\n",
       "      <td>4096.0</td>\n",
       "      <td>65536.0</td>\n",
       "      <td>Yes</td>\n",
       "      <td>4.6</td>\n",
       "      <td>49900</td>\n",
       "      <td>49900</td>\n",
       "      <td>Apple iPhone 11</td>\n",
       "      <td>0</td>\n",
       "      <td>0.000000</td>\n",
       "    </tr>\n",
       "    <tr>\n",
       "      <th>5</th>\n",
       "      <td>GIONEE</td>\n",
       "      <td>L800</td>\n",
       "      <td>Black</td>\n",
       "      <td>8.0</td>\n",
       "      <td>16.0</td>\n",
       "      <td>Yes</td>\n",
       "      <td>4.0</td>\n",
       "      <td>2199</td>\n",
       "      <td>2199</td>\n",
       "      <td>GIONEE L800</td>\n",
       "      <td>0</td>\n",
       "      <td>0.000000</td>\n",
       "    </tr>\n",
       "    <tr>\n",
       "      <th>...</th>\n",
       "      <td>...</td>\n",
       "      <td>...</td>\n",
       "      <td>...</td>\n",
       "      <td>...</td>\n",
       "      <td>...</td>\n",
       "      <td>...</td>\n",
       "      <td>...</td>\n",
       "      <td>...</td>\n",
       "      <td>...</td>\n",
       "      <td>...</td>\n",
       "      <td>...</td>\n",
       "      <td>...</td>\n",
       "    </tr>\n",
       "    <tr>\n",
       "      <th>3107</th>\n",
       "      <td>SAMSUNG</td>\n",
       "      <td>Galaxy S Duos 2</td>\n",
       "      <td>Black</td>\n",
       "      <td>512.0</td>\n",
       "      <td>4096.0</td>\n",
       "      <td>Yes</td>\n",
       "      <td>4.0</td>\n",
       "      <td>5999</td>\n",
       "      <td>5999</td>\n",
       "      <td>SAMSUNG Galaxy S Duos 2</td>\n",
       "      <td>0</td>\n",
       "      <td>0.000000</td>\n",
       "    </tr>\n",
       "    <tr>\n",
       "      <th>3108</th>\n",
       "      <td>SAMSUNG</td>\n",
       "      <td>Metro 313</td>\n",
       "      <td>Black</td>\n",
       "      <td>4.0</td>\n",
       "      <td>2.0</td>\n",
       "      <td>Yes</td>\n",
       "      <td>4.2</td>\n",
       "      <td>2299</td>\n",
       "      <td>2299</td>\n",
       "      <td>SAMSUNG Metro 313</td>\n",
       "      <td>0</td>\n",
       "      <td>0.000000</td>\n",
       "    </tr>\n",
       "    <tr>\n",
       "      <th>3109</th>\n",
       "      <td>POCO</td>\n",
       "      <td>M4 Pro 5G</td>\n",
       "      <td>Cool Blue</td>\n",
       "      <td>6144.0</td>\n",
       "      <td>131072.0</td>\n",
       "      <td>Yes</td>\n",
       "      <td>4.4</td>\n",
       "      <td>16999</td>\n",
       "      <td>19999</td>\n",
       "      <td>POCO M4 Pro 5G</td>\n",
       "      <td>3000</td>\n",
       "      <td>15.000750</td>\n",
       "    </tr>\n",
       "    <tr>\n",
       "      <th>3111</th>\n",
       "      <td>Apple</td>\n",
       "      <td>iPhone SE</td>\n",
       "      <td>White</td>\n",
       "      <td>2048.0</td>\n",
       "      <td>131072.0</td>\n",
       "      <td>Yes</td>\n",
       "      <td>4.5</td>\n",
       "      <td>44900</td>\n",
       "      <td>44900</td>\n",
       "      <td>Apple iPhone SE</td>\n",
       "      <td>0</td>\n",
       "      <td>0.000000</td>\n",
       "    </tr>\n",
       "    <tr>\n",
       "      <th>3113</th>\n",
       "      <td>GIONEE</td>\n",
       "      <td>F9</td>\n",
       "      <td>Blue</td>\n",
       "      <td>3072.0</td>\n",
       "      <td>32768.0</td>\n",
       "      <td>Yes</td>\n",
       "      <td>4.2</td>\n",
       "      <td>7900</td>\n",
       "      <td>7900</td>\n",
       "      <td>GIONEE F9</td>\n",
       "      <td>0</td>\n",
       "      <td>0.000000</td>\n",
       "    </tr>\n",
       "  </tbody>\n",
       "</table>\n",
       "<p>2897 rows × 12 columns</p>\n",
       "</div>"
      ],
      "text/plain": [
       "       Brands            Models        Colors  Memory   Storage Camera  \\\n",
       "0     SAMSUNG      GALAXY M31S   Mirage Black  8192.0  131072.0    Yes   \n",
       "1       Nokia               3.2         Steel  2048.0   16384.0    Yes   \n",
       "3     Infinix            Note 5      Ice Blue  4096.0   65536.0    Yes   \n",
       "4       Apple        iPhone 11          Black  4096.0   65536.0    Yes   \n",
       "5      GIONEE              L800         Black     8.0      16.0    Yes   \n",
       "...       ...               ...           ...     ...       ...    ...   \n",
       "3107  SAMSUNG  Galaxy S Duos 2          Black   512.0    4096.0    Yes   \n",
       "3108  SAMSUNG         Metro 313         Black     4.0       2.0    Yes   \n",
       "3109     POCO         M4 Pro 5G     Cool Blue  6144.0  131072.0    Yes   \n",
       "3111    Apple        iPhone SE          White  2048.0  131072.0    Yes   \n",
       "3113   GIONEE               F9           Blue  3072.0   32768.0    Yes   \n",
       "\n",
       "      Rating  Selling Price  Original Price                    Mobile  \\\n",
       "0        4.3          19330           20999      SAMSUNG GALAXY M31S    \n",
       "1        3.8          10199           10199                 Nokia 3.2   \n",
       "3        4.2          12999           12999            Infinix Note 5   \n",
       "4        4.6          49900           49900          Apple iPhone 11    \n",
       "5        4.0           2199            2199               GIONEE L800   \n",
       "...      ...            ...             ...                       ...   \n",
       "3107     4.0           5999            5999  SAMSUNG Galaxy S Duos 2    \n",
       "3108     4.2           2299            2299         SAMSUNG Metro 313   \n",
       "3109     4.4          16999           19999            POCO M4 Pro 5G   \n",
       "3111     4.5          44900           44900          Apple iPhone SE    \n",
       "3113     4.2           7900            7900                GIONEE F9    \n",
       "\n",
       "      Discount  discount percentage  \n",
       "0         1669             7.947998  \n",
       "1            0             0.000000  \n",
       "3            0             0.000000  \n",
       "4            0             0.000000  \n",
       "5            0             0.000000  \n",
       "...        ...                  ...  \n",
       "3107         0             0.000000  \n",
       "3108         0             0.000000  \n",
       "3109      3000            15.000750  \n",
       "3111         0             0.000000  \n",
       "3113         0             0.000000  \n",
       "\n",
       "[2897 rows x 12 columns]"
      ]
     },
     "execution_count": 5,
     "metadata": {},
     "output_type": "execute_result"
    }
   ],
   "source": [
    "\n",
    "data_converted = data_converted.dropna()\n",
    "data_converted"
   ]
  },
  {
   "cell_type": "code",
   "execution_count": 6,
   "metadata": {},
   "outputs": [],
   "source": [
    "data_converted = data_converted.drop(columns=['Camera'])"
   ]
  },
  {
   "cell_type": "code",
   "execution_count": 7,
   "metadata": {},
   "outputs": [
    {
     "data": {
      "text/html": [
       "<div>\n",
       "<style scoped>\n",
       "    .dataframe tbody tr th:only-of-type {\n",
       "        vertical-align: middle;\n",
       "    }\n",
       "\n",
       "    .dataframe tbody tr th {\n",
       "        vertical-align: top;\n",
       "    }\n",
       "\n",
       "    .dataframe thead th {\n",
       "        text-align: right;\n",
       "    }\n",
       "</style>\n",
       "<table border=\"1\" class=\"dataframe\">\n",
       "  <thead>\n",
       "    <tr style=\"text-align: right;\">\n",
       "      <th></th>\n",
       "      <th>Brands</th>\n",
       "      <th>Models</th>\n",
       "      <th>Colors</th>\n",
       "      <th>Mobile</th>\n",
       "    </tr>\n",
       "  </thead>\n",
       "  <tbody>\n",
       "    <tr>\n",
       "      <th>count</th>\n",
       "      <td>2897</td>\n",
       "      <td>2897</td>\n",
       "      <td>2897</td>\n",
       "      <td>2897</td>\n",
       "    </tr>\n",
       "    <tr>\n",
       "      <th>unique</th>\n",
       "      <td>17</td>\n",
       "      <td>877</td>\n",
       "      <td>622</td>\n",
       "      <td>891</td>\n",
       "    </tr>\n",
       "    <tr>\n",
       "      <th>top</th>\n",
       "      <td>SAMSUNG</td>\n",
       "      <td>iPhone 11</td>\n",
       "      <td>Black</td>\n",
       "      <td>Apple iPhone 11</td>\n",
       "    </tr>\n",
       "    <tr>\n",
       "      <th>freq</th>\n",
       "      <td>685</td>\n",
       "      <td>36</td>\n",
       "      <td>446</td>\n",
       "      <td>36</td>\n",
       "    </tr>\n",
       "  </tbody>\n",
       "</table>\n",
       "</div>"
      ],
      "text/plain": [
       "         Brands      Models Colors            Mobile\n",
       "count      2897        2897   2897              2897\n",
       "unique       17         877    622               891\n",
       "top     SAMSUNG  iPhone 11   Black  Apple iPhone 11 \n",
       "freq        685          36    446                36"
      ]
     },
     "execution_count": 7,
     "metadata": {},
     "output_type": "execute_result"
    }
   ],
   "source": [
    "data_converted.describe(include='object')  "
   ]
  },
  {
   "cell_type": "code",
   "execution_count": 8,
   "metadata": {},
   "outputs": [],
   "source": [
    "categorical_columns = data_converted.select_dtypes(include=['object']).columns\n",
    "\n",
    "ordinal_encoder = OrdinalEncoder()\n",
    "\n",
    "data_converted[categorical_columns] = ordinal_encoder.fit_transform(data_converted[categorical_columns])"
   ]
  },
  {
   "cell_type": "code",
   "execution_count": 9,
   "metadata": {},
   "outputs": [
    {
     "data": {
      "text/html": [
       "<div>\n",
       "<style scoped>\n",
       "    .dataframe tbody tr th:only-of-type {\n",
       "        vertical-align: middle;\n",
       "    }\n",
       "\n",
       "    .dataframe tbody tr th {\n",
       "        vertical-align: top;\n",
       "    }\n",
       "\n",
       "    .dataframe thead th {\n",
       "        text-align: right;\n",
       "    }\n",
       "</style>\n",
       "<table border=\"1\" class=\"dataframe\">\n",
       "  <thead>\n",
       "    <tr style=\"text-align: right;\">\n",
       "      <th></th>\n",
       "      <th>Brands</th>\n",
       "      <th>Models</th>\n",
       "      <th>Colors</th>\n",
       "      <th>Memory</th>\n",
       "      <th>Storage</th>\n",
       "      <th>Rating</th>\n",
       "      <th>Selling Price</th>\n",
       "      <th>Original Price</th>\n",
       "      <th>Mobile</th>\n",
       "      <th>Discount</th>\n",
       "      <th>discount percentage</th>\n",
       "    </tr>\n",
       "  </thead>\n",
       "  <tbody>\n",
       "    <tr>\n",
       "      <th>count</th>\n",
       "      <td>2897.000000</td>\n",
       "      <td>2897.000000</td>\n",
       "      <td>2897.000000</td>\n",
       "      <td>2897.000000</td>\n",
       "      <td>2.897000e+03</td>\n",
       "      <td>2897.000000</td>\n",
       "      <td>2897.000000</td>\n",
       "      <td>2897.000000</td>\n",
       "      <td>2897.000000</td>\n",
       "      <td>2897.000000</td>\n",
       "      <td>2897.000000</td>\n",
       "    </tr>\n",
       "    <tr>\n",
       "      <th>mean</th>\n",
       "      <td>9.485330</td>\n",
       "      <td>456.059027</td>\n",
       "      <td>286.270625</td>\n",
       "      <td>4170.691405</td>\n",
       "      <td>8.760485e+04</td>\n",
       "      <td>4.241319</td>\n",
       "      <td>24692.492233</td>\n",
       "      <td>26656.677943</td>\n",
       "      <td>438.192268</td>\n",
       "      <td>1964.185709</td>\n",
       "      <td>6.222417</td>\n",
       "    </tr>\n",
       "    <tr>\n",
       "      <th>std</th>\n",
       "      <td>5.006888</td>\n",
       "      <td>269.774393</td>\n",
       "      <td>196.419005</td>\n",
       "      <td>2475.611668</td>\n",
       "      <td>9.633680e+04</td>\n",
       "      <td>0.272841</td>\n",
       "      <td>26373.592602</td>\n",
       "      <td>28251.233298</td>\n",
       "      <td>272.495812</td>\n",
       "      <td>5505.394873</td>\n",
       "      <td>11.353050</td>\n",
       "    </tr>\n",
       "    <tr>\n",
       "      <th>min</th>\n",
       "      <td>0.000000</td>\n",
       "      <td>0.000000</td>\n",
       "      <td>0.000000</td>\n",
       "      <td>2.000000</td>\n",
       "      <td>2.000000e+00</td>\n",
       "      <td>2.300000</td>\n",
       "      <td>1000.000000</td>\n",
       "      <td>1000.000000</td>\n",
       "      <td>0.000000</td>\n",
       "      <td>-8000.000000</td>\n",
       "      <td>-160.320641</td>\n",
       "    </tr>\n",
       "    <tr>\n",
       "      <th>25%</th>\n",
       "      <td>6.000000</td>\n",
       "      <td>228.000000</td>\n",
       "      <td>66.000000</td>\n",
       "      <td>2048.000000</td>\n",
       "      <td>3.276800e+04</td>\n",
       "      <td>4.100000</td>\n",
       "      <td>9990.000000</td>\n",
       "      <td>10389.000000</td>\n",
       "      <td>170.000000</td>\n",
       "      <td>0.000000</td>\n",
       "      <td>0.000000</td>\n",
       "    </tr>\n",
       "    <tr>\n",
       "      <th>50%</th>\n",
       "      <td>11.000000</td>\n",
       "      <td>444.000000</td>\n",
       "      <td>257.000000</td>\n",
       "      <td>4096.000000</td>\n",
       "      <td>6.553600e+04</td>\n",
       "      <td>4.300000</td>\n",
       "      <td>14999.000000</td>\n",
       "      <td>16300.000000</td>\n",
       "      <td>474.000000</td>\n",
       "      <td>0.000000</td>\n",
       "      <td>0.000000</td>\n",
       "    </tr>\n",
       "    <tr>\n",
       "      <th>75%</th>\n",
       "      <td>13.000000</td>\n",
       "      <td>689.000000</td>\n",
       "      <td>471.000000</td>\n",
       "      <td>6144.000000</td>\n",
       "      <td>1.310720e+05</td>\n",
       "      <td>4.400000</td>\n",
       "      <td>27499.000000</td>\n",
       "      <td>29999.000000</td>\n",
       "      <td>673.000000</td>\n",
       "      <td>2000.000000</td>\n",
       "      <td>9.836388</td>\n",
       "    </tr>\n",
       "    <tr>\n",
       "      <th>max</th>\n",
       "      <td>16.000000</td>\n",
       "      <td>876.000000</td>\n",
       "      <td>621.000000</td>\n",
       "      <td>16384.000000</td>\n",
       "      <td>1.048576e+06</td>\n",
       "      <td>5.000000</td>\n",
       "      <td>179900.000000</td>\n",
       "      <td>189999.000000</td>\n",
       "      <td>890.000000</td>\n",
       "      <td>75000.000000</td>\n",
       "      <td>70.610305</td>\n",
       "    </tr>\n",
       "  </tbody>\n",
       "</table>\n",
       "</div>"
      ],
      "text/plain": [
       "            Brands       Models       Colors        Memory       Storage  \\\n",
       "count  2897.000000  2897.000000  2897.000000   2897.000000  2.897000e+03   \n",
       "mean      9.485330   456.059027   286.270625   4170.691405  8.760485e+04   \n",
       "std       5.006888   269.774393   196.419005   2475.611668  9.633680e+04   \n",
       "min       0.000000     0.000000     0.000000      2.000000  2.000000e+00   \n",
       "25%       6.000000   228.000000    66.000000   2048.000000  3.276800e+04   \n",
       "50%      11.000000   444.000000   257.000000   4096.000000  6.553600e+04   \n",
       "75%      13.000000   689.000000   471.000000   6144.000000  1.310720e+05   \n",
       "max      16.000000   876.000000   621.000000  16384.000000  1.048576e+06   \n",
       "\n",
       "            Rating  Selling Price  Original Price       Mobile      Discount  \\\n",
       "count  2897.000000    2897.000000     2897.000000  2897.000000   2897.000000   \n",
       "mean      4.241319   24692.492233    26656.677943   438.192268   1964.185709   \n",
       "std       0.272841   26373.592602    28251.233298   272.495812   5505.394873   \n",
       "min       2.300000    1000.000000     1000.000000     0.000000  -8000.000000   \n",
       "25%       4.100000    9990.000000    10389.000000   170.000000      0.000000   \n",
       "50%       4.300000   14999.000000    16300.000000   474.000000      0.000000   \n",
       "75%       4.400000   27499.000000    29999.000000   673.000000   2000.000000   \n",
       "max       5.000000  179900.000000   189999.000000   890.000000  75000.000000   \n",
       "\n",
       "       discount percentage  \n",
       "count          2897.000000  \n",
       "mean              6.222417  \n",
       "std              11.353050  \n",
       "min            -160.320641  \n",
       "25%               0.000000  \n",
       "50%               0.000000  \n",
       "75%               9.836388  \n",
       "max              70.610305  "
      ]
     },
     "execution_count": 9,
     "metadata": {},
     "output_type": "execute_result"
    }
   ],
   "source": [
    "data_converted.describe()"
   ]
  },
  {
   "cell_type": "code",
   "execution_count": 10,
   "metadata": {},
   "outputs": [],
   "source": [
    "features = data_converted[['Memory', 'Storage','Rating','Discount','Brands','Models','Discount','discount percentage']]\n",
    "label = data_converted[['Selling Price']]"
   ]
  },
  {
   "cell_type": "code",
   "execution_count": 11,
   "metadata": {},
   "outputs": [
    {
     "name": "stdout",
     "output_type": "stream",
     "text": [
      "      Selling Price\n",
      "179            4999\n",
      "2344           9999\n",
      "280           16499\n",
      "2578           3990\n",
      "1548         149999\n",
      "...             ...\n",
      "1764          14449\n",
      "1176           2540\n",
      "1215          29199\n",
      "1393          36299\n",
      "927           17999\n",
      "\n",
      "[2317 rows x 1 columns]\n"
     ]
    }
   ],
   "source": [
    "X_train, X_test, y_train, y_test = train_test_split(features, label, test_size=0.2, random_state=42)\n",
    "print(y_train)\n",
    "\n",
    "# Reshape the target variable\n",
    "y_train = y_train.values.ravel()\n",
    "#print(y_train)\n",
    "y_test = y_test.values.ravel()"
   ]
  },
  {
   "cell_type": "markdown",
   "metadata": {},
   "source": [
    "## Linear regression"
   ]
  },
  {
   "cell_type": "code",
   "execution_count": 12,
   "metadata": {},
   "outputs": [
    {
     "name": "stdout",
     "output_type": "stream",
     "text": [
      "Root Mean Squared Error: 13795.347306763846\n",
      "Standard deviation of the target variable: 24424.647379014754\n",
      "R^2 Score: 0.6809867862405183\n"
     ]
    }
   ],
   "source": [
    "lr = LinearRegression()\n",
    "lr.fit(X_train, y_train)\n",
    "\n",
    "y_pred = lr.predict(X_test)\n",
    "mse = mean_squared_error(y_test, y_pred)\n",
    "r2 = r2_score(y_test, y_pred)\n",
    "rmse = np.sqrt(mse)\n",
    "\n",
    "print(f'Root Mean Squared Error: {rmse}')\n",
    "print(f'Standard deviation of the target variable: {np.std(y_test)}')\n",
    "print(f'R^2 Score: {r2}')"
   ]
  },
  {
   "cell_type": "markdown",
   "metadata": {},
   "source": [
    "## KNN"
   ]
  },
  {
   "cell_type": "code",
   "execution_count": 13,
   "metadata": {},
   "outputs": [
    {
     "name": "stdout",
     "output_type": "stream",
     "text": [
      "KNN Root Mean Squared Error: 13795.347306763846\n",
      "KNN Standard deviation of the target variable: 24424.647379014754\n",
      "KNN R^2 Score: 0.6809867862405183\n"
     ]
    }
   ],
   "source": [
    "knn = KNeighborsRegressor(n_neighbors=5)\n",
    "knn.fit(X_train, y_train)\n",
    "y_pred_knn = knn.predict(X_test)\n",
    "mse_knn = mean_squared_error(y_test, y_pred_knn)\n",
    "r2_knn = r2_score(y_test, y_pred_knn)\n",
    "rmse_knn = np.sqrt(mse_knn)\n",
    "\n",
    "print(f'KNN Root Mean Squared Error: {rmse}')\n",
    "print(f'KNN Standard deviation of the target variable: {np.std(y_test)}')\n",
    "print(f'KNN R^2 Score: {r2}')"
   ]
  },
  {
   "cell_type": "markdown",
   "metadata": {},
   "source": [
    "## Polynomial Regression"
   ]
  },
  {
   "cell_type": "code",
   "execution_count": 14,
   "metadata": {},
   "outputs": [
    {
     "name": "stdout",
     "output_type": "stream",
     "text": [
      "Polynomial Regression Root Mean Squared Error: 12602.751146998353\n",
      "Polynomial Regression Standard deviation of the target variable: 24424.647379014754\n",
      "Polynomial Regression R^2 Score: 0.733759502204566\n"
     ]
    }
   ],
   "source": [
    "poly = PolynomialFeatures(degree=2)\n",
    "X_poly = poly.fit_transform(X_train)\n",
    "model_poly = LinearRegression()\n",
    "model_poly.fit(X_poly, y_train)\n",
    "X_test_poly = poly.transform(X_test)\n",
    "y_pred_poly = model_poly.predict(X_test_poly)\n",
    "mse_poly = mean_squared_error(y_test, y_pred_poly)\n",
    "r2_poly = r2_score(y_test, y_pred_poly)\n",
    "rmse_poly = np.sqrt(mse_poly)\n",
    "\n",
    "print(f'Polynomial Regression Root Mean Squared Error: {rmse_poly}')\n",
    "print(f'Polynomial Regression Standard deviation of the target variable: {np.std(y_test)}')\n",
    "print(f'Polynomial Regression R^2 Score: {r2_poly}')"
   ]
  },
  {
   "cell_type": "markdown",
   "metadata": {},
   "source": [
    "##  Random Forest Regression"
   ]
  },
  {
   "cell_type": "code",
   "execution_count": 15,
   "metadata": {},
   "outputs": [
    {
     "name": "stdout",
     "output_type": "stream",
     "text": [
      "Random Forest Root Mean Squared Error: 5800.423693751334\n",
      "Random Forest Standard deviation of the target variable: 24424.647379014754\n",
      "Random Forest R^2 Score: 0.9436021132872057\n"
     ]
    }
   ],
   "source": [
    "rf = RandomForestRegressor(n_estimators=100, random_state=42)\n",
    "rf.fit(X_train, y_train)\n",
    "y_pred_rf = rf.predict(X_test)\n",
    "mse_rf = mean_squared_error(y_test, y_pred_rf)\n",
    "r2_rf = r2_score(y_test, y_pred_rf)\n",
    "rmse_rf = np.sqrt(mse_rf)\n",
    "\n",
    "print(f'Random Forest Root Mean Squared Error: {rmse_rf}')\n",
    "print(f'Random Forest Standard deviation of the target variable: {np.std(y_test)}')\n",
    "print(f'Random Forest R^2 Score: {r2_rf}')"
   ]
  },
  {
   "cell_type": "markdown",
   "metadata": {},
   "source": [
    "## AdaBoost Regression"
   ]
  },
  {
   "cell_type": "code",
   "execution_count": 16,
   "metadata": {},
   "outputs": [
    {
     "name": "stdout",
     "output_type": "stream",
     "text": [
      "AdaBoost Root Mean Squared Error: 17912.208359829605\n",
      "AdaBoost Standard deviation of the target variable: 24424.647379014754\n",
      "AdaBoost R^2 Score: 0.46217416531607225\n"
     ]
    }
   ],
   "source": [
    "base_estimator = DecisionTreeRegressor(max_depth=3)\n",
    "ada = AdaBoostRegressor(estimator=base_estimator, n_estimators=100, random_state=42)\n",
    "ada.fit(X_train, y_train)\n",
    "y_pred_ada = ada.predict(X_test)\n",
    "mse_ada = mean_squared_error(y_test, y_pred_ada)\n",
    "r2_ada = r2_score(y_test, y_pred_ada)\n",
    "rmse_ada = np.sqrt(mse_ada)\n",
    "\n",
    "print(f'AdaBoost Root Mean Squared Error: {rmse_ada}')\n",
    "print(f'Standard deviation of the target variable: {np.std(y_test)}')\n",
    "print(f'AdaBoost R^2 Score: {r2_ada}')"
   ]
  },
  {
   "cell_type": "markdown",
   "metadata": {},
   "source": [
    "# Gradient boosting Regression"
   ]
  },
  {
   "cell_type": "code",
   "execution_count": 21,
   "metadata": {},
   "outputs": [
    {
     "name": "stdout",
     "output_type": "stream",
     "text": [
      "Gradient Boosting RMSE: 7041.887868855527\n",
      "Standard deviation of the target variable: 24424.647379014754\n",
      "Gradient Boosting R^2 Score: 0.9168769240759984\n"
     ]
    }
   ],
   "source": [
    "from sklearn.ensemble import GradientBoostingRegressor\n",
    "from sklearn.metrics import mean_squared_error, r2_score\n",
    "import numpy as np\n",
    "\n",
    "# Initialize and fit the model\n",
    "gbr = GradientBoostingRegressor()\n",
    "gbr.fit(X_train, y_train)\n",
    "\n",
    "# Make predictions\n",
    "y_pred_gbr = gbr.predict(X_test)\n",
    "\n",
    "# Calculate metrics\n",
    "mse_gbr = mean_squared_error(y_test, y_pred_gbr)\n",
    "r2_gbr = r2_score(y_test, y_pred_gbr)\n",
    "rmse_gbr = np.sqrt(mse_gbr)\n",
    "\n",
    "# Print results\n",
    "print(f'Gradient Boosting RMSE: {rmse_gbr}')\n",
    "print(f'Standard deviation of the target variable: {np.std(y_test)}')\n",
    "print(f'Gradient Boosting R^2 Score: {r2_gbr}')\n"
   ]
  },
  {
   "cell_type": "markdown",
   "metadata": {},
   "source": [
    "# Support Vector Regression"
   ]
  },
  {
   "cell_type": "code",
   "execution_count": 23,
   "metadata": {},
   "outputs": [
    {
     "name": "stdout",
     "output_type": "stream",
     "text": [
      "SVR RMSE: 25836.792525686797\n",
      "Standard deviation of the target variable: 24424.647379014754\n",
      "SVR R^2 Score: -0.11897553298617791\n"
     ]
    }
   ],
   "source": [
    "from sklearn.svm import SVR\n",
    "\n",
    "# Initialize and fit the model\n",
    "svr = SVR(kernel='rbf')\n",
    "svr.fit(X_train, y_train)\n",
    "\n",
    "# Make predictions\n",
    "y_pred_svr = svr.predict(X_test)\n",
    "\n",
    "# Calculate metrics\n",
    "mse_svr = mean_squared_error(y_test, y_pred_svr)\n",
    "r2_svr = r2_score(y_test, y_pred_svr)\n",
    "rmse_svr = np.sqrt(mse_svr)\n",
    "\n",
    "# Print results\n",
    "print(f'SVR RMSE: {rmse_svr}')\n",
    "print(f'Standard deviation of the target variable: {np.std(y_test)}')\n",
    "print(f'SVR R^2 Score: {r2_svr}')\n"
   ]
  },
  {
   "cell_type": "markdown",
   "metadata": {},
   "source": [
    "# XG boost Regression"
   ]
  },
  {
   "cell_type": "code",
   "execution_count": 24,
   "metadata": {},
   "outputs": [
    {
     "ename": "ModuleNotFoundError",
     "evalue": "No module named 'xgboost'",
     "output_type": "error",
     "traceback": [
      "\u001b[0;31m---------------------------------------------------------------------------\u001b[0m",
      "\u001b[0;31mModuleNotFoundError\u001b[0m                       Traceback (most recent call last)",
      "Cell \u001b[0;32mIn[24], line 1\u001b[0m\n\u001b[0;32m----> 1\u001b[0m \u001b[38;5;28;01mfrom\u001b[39;00m \u001b[38;5;21;01mxgboost\u001b[39;00m \u001b[38;5;28;01mimport\u001b[39;00m XGBRegressor\n\u001b[1;32m      3\u001b[0m \u001b[38;5;66;03m# Initialize and fit the model\u001b[39;00m\n\u001b[1;32m      4\u001b[0m xgbr \u001b[38;5;241m=\u001b[39m XGBRegressor(objective\u001b[38;5;241m=\u001b[39m\u001b[38;5;124m'\u001b[39m\u001b[38;5;124mreg:squarederror\u001b[39m\u001b[38;5;124m'\u001b[39m)\n",
      "\u001b[0;31mModuleNotFoundError\u001b[0m: No module named 'xgboost'"
     ]
    }
   ],
   "source": []
  },
  {
   "cell_type": "code",
   "execution_count": 25,
   "metadata": {},
   "outputs": [
    {
     "data": {
      "text/html": [
       "<div>\n",
       "<style scoped>\n",
       "    .dataframe tbody tr th:only-of-type {\n",
       "        vertical-align: middle;\n",
       "    }\n",
       "\n",
       "    .dataframe tbody tr th {\n",
       "        vertical-align: top;\n",
       "    }\n",
       "\n",
       "    .dataframe thead th {\n",
       "        text-align: right;\n",
       "    }\n",
       "</style>\n",
       "<table border=\"1\" class=\"dataframe\">\n",
       "  <thead>\n",
       "    <tr style=\"text-align: right;\">\n",
       "      <th></th>\n",
       "      <th>Model</th>\n",
       "      <th>RMSE</th>\n",
       "      <th>R^2</th>\n",
       "    </tr>\n",
       "  </thead>\n",
       "  <tbody>\n",
       "    <tr>\n",
       "      <th>0</th>\n",
       "      <td>Linear Regression</td>\n",
       "      <td>13795.347307</td>\n",
       "      <td>0.680987</td>\n",
       "    </tr>\n",
       "    <tr>\n",
       "      <th>1</th>\n",
       "      <td>KNN</td>\n",
       "      <td>9326.319608</td>\n",
       "      <td>0.854198</td>\n",
       "    </tr>\n",
       "    <tr>\n",
       "      <th>2</th>\n",
       "      <td>Polynomial Regression</td>\n",
       "      <td>12602.751147</td>\n",
       "      <td>0.733760</td>\n",
       "    </tr>\n",
       "    <tr>\n",
       "      <th>3</th>\n",
       "      <td>Random Forest</td>\n",
       "      <td>5800.423694</td>\n",
       "      <td>0.943602</td>\n",
       "    </tr>\n",
       "    <tr>\n",
       "      <th>4</th>\n",
       "      <td>AdaBoost</td>\n",
       "      <td>17912.208360</td>\n",
       "      <td>0.462174</td>\n",
       "    </tr>\n",
       "    <tr>\n",
       "      <th>5</th>\n",
       "      <td>Gradient Boosting</td>\n",
       "      <td>7041.887869</td>\n",
       "      <td>0.916877</td>\n",
       "    </tr>\n",
       "    <tr>\n",
       "      <th>6</th>\n",
       "      <td>SVR</td>\n",
       "      <td>25836.792526</td>\n",
       "      <td>-0.118976</td>\n",
       "    </tr>\n",
       "  </tbody>\n",
       "</table>\n",
       "</div>"
      ],
      "text/plain": [
       "                   Model          RMSE       R^2\n",
       "0      Linear Regression  13795.347307  0.680987\n",
       "1                    KNN   9326.319608  0.854198\n",
       "2  Polynomial Regression  12602.751147  0.733760\n",
       "3          Random Forest   5800.423694  0.943602\n",
       "4               AdaBoost  17912.208360  0.462174\n",
       "5      Gradient Boosting   7041.887869  0.916877\n",
       "6                    SVR  25836.792526 -0.118976"
      ]
     },
     "execution_count": 25,
     "metadata": {},
     "output_type": "execute_result"
    }
   ],
   "source": [
    "ml_models = pd.DataFrame({\n",
    "    'Model': ['Linear Regression', 'KNN', 'Polynomial Regression', 'Random Forest', 'AdaBoost', 'Gradient Boosting', 'SVR'],\n",
    "    'RMSE': [rmse, rmse_knn, rmse_poly, rmse_rf, rmse_ada, rmse_gbr, rmse_svr],\n",
    "    'R^2': [r2, r2_knn, r2_poly, r2_rf, r2_ada, r2_gbr, r2_svr]\n",
    "})\n",
    "ml_models"
   ]
  },
  {
   "cell_type": "code",
   "execution_count": 26,
   "metadata": {},
   "outputs": [
    {
     "data": {
      "image/png": "[encoded data removed]",
      "text/plain": [
       "<Figure size 1200x700 with 1 Axes>"
      ]
     },
     "metadata": {},
     "output_type": "display_data"
    }
   ],
   "source": [
    "# Set the style for seaborn\n",
    "sns.set_theme(style=\"whitegrid\")\n",
    "\n",
    "# Set up the matplotlib figure\n",
    "plt.figure(figsize=(12, 7))\n",
    "\n",
    "# Title of the plot\n",
    "plt.title('RMSE of Different Models')\n",
    "\n",
    "# Create the horizontal bar plot with a custom color palette\n",
    "custom_palette = sns.color_palette(\"viridis\", len(ml_models))\n",
    "bars = plt.barh(ml_models['Model'], ml_models['RMSE'], color=custom_palette)\n",
    "\n",
    "# Add a trend line\n",
    "x = np.arange(len(ml_models))\n",
    "plt.plot(ml_models['RMSE'], x, color='blue', marker='o', linestyle='-', linewidth=2, markersize=8, label='Trend Line')\n",
    "\n",
    "# Add grid lines for better readability\n",
    "plt.grid(axis='x', linestyle='--', alpha=0.7)\n",
    "\n",
    "# Add value labels on the bars\n",
    "for bar in bars:\n",
    "    plt.text(bar.get_width(), bar.get_y() + bar.get_height() / 2, f'{bar.get_width()}', va='center', ha='left', fontsize=10, color='black')\n",
    "\n",
    "# Mark the highest value\n",
    "max_value = ml_models['RMSE'].max()\n",
    "max_index = ml_models['Model'][ml_models['RMSE'].idxmax()]\n",
    "plt.scatter(max_value, ml_models['Model'][ml_models['RMSE'].idxmax()], color='red', s=100, edgecolor='black', zorder=5, label='Highest Value')\n",
    "\n",
    "# Add a legend\n",
    "plt.legend()\n",
    "\n",
    "# Customize x-axis and y-axis labels\n",
    "plt.xlabel('RMSE')\n",
    "plt.ylabel('Model')\n",
    "\n",
    "# Show the plot\n",
    "plt.tight_layout()\n",
    "plt.show()"
   ]
  },
  {
   "cell_type": "code",
   "execution_count": 27,
   "metadata": {},
   "outputs": [
    {
     "data": {
      "image/png": "[encoded data removed]",
      "text/plain": [
       "<Figure size 1200x700 with 1 Axes>"
      ]
     },
     "metadata": {},
     "output_type": "display_data"
    }
   ],
   "source": [
    "# Set the style for seaborn\n",
    "sns.set_theme(style=\"whitegrid\")\n",
    "\n",
    "# Set up the matplotlib figure\n",
    "plt.figure(figsize=(12, 7))\n",
    "\n",
    "# Title of the plot\n",
    "plt.title('R² of Different Models')\n",
    "\n",
    "# Create the horizontal bar plot with a custom color palette\n",
    "custom_palette = sns.color_palette(\"viridis\", len(ml_models))\n",
    "bars = plt.barh(ml_models['Model'], ml_models['R^2'], color=custom_palette)\n",
    "\n",
    "# Add a trend line\n",
    "x = np.arange(len(ml_models))\n",
    "plt.plot(ml_models['R^2'], x, color='blue', marker='o', linestyle='-', linewidth=2, markersize=8, label='Trend Line')\n",
    "\n",
    "# Add grid lines for better readability\n",
    "plt.grid(axis='x', linestyle='--', alpha=0.7)\n",
    "\n",
    "# Add value labels on the bars\n",
    "for bar in bars:\n",
    "    plt.text(bar.get_width(), bar.get_y() + bar.get_height() / 2, f'{bar.get_width():.2f}', va='center', ha='left', fontsize=10, color='black')\n",
    "\n",
    "# Mark the highest value\n",
    "max_value = ml_models['R^2'].max()\n",
    "max_index = ml_models['Model'][ml_models['R^2'].idxmax()]\n",
    "plt.scatter(max_value, ml_models['Model'][ml_models['R^2'].idxmax()], color='red', s=100, edgecolor='black', zorder=5, label='Highest Value')\n",
    "\n",
    "# Add a legend\n",
    "plt.legend()\n",
    "\n",
    "# Customize x-axis and y-axis labels\n",
    "plt.xlabel('R²')\n",
    "plt.ylabel('Model')\n",
    "\n",
    "# Show the plot\n",
    "plt.tight_layout()\n",
    "plt.show()\n",
    "\n",
    "\n"
   ]
  }
 ],
 "metadata": {
  "kernelspec": {
   "display_name": "base",
   "language": "python",
   "name": "python3"
  },
  "language_info": {
   "codemirror_mode": {
    "name": "ipython",
    "version": 3
   },
   "file_extension": ".py",
   "mimetype": "text/x-python",
   "name": "python",
   "nbconvert_exporter": "python",
   "pygments_lexer": "ipython3",
   "version": "3.12.4"
  }
 },
 "nbformat": 4,
 "nbformat_minor": 2
}
